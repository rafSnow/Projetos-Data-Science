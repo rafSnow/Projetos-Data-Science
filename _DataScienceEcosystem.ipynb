{
 "cells": [
  {
   "cell_type": "markdown",
   "id": "bbc5c1e4-8303-4421-bbda-2ae120ddf42e",
   "metadata": {},
   "source": [
    "# Data Science Tools and Ecosystem"
   ]
  },
  {
   "cell_type": "markdown",
   "id": "18298a2d-c863-4470-99a7-817dc2a3c59d",
   "metadata": {},
   "source": [
    "In this notebook, Data Science Tools and Ecosystem are summarized."
   ]
  },
  {
   "cell_type": "markdown",
   "id": "1b19064f-b9f9-4c7c-b3e2-ede532d494fb",
   "metadata": {},
   "source": [
    "**Objectives:**\n",
    "* List popular languages for Data Science\n",
    "* Aprender sobre Markdown\n",
    "* Aprender sobre Jupyter Notebook"
   ]
  },
  {
   "cell_type": "markdown",
   "id": "d28e5d5d-dfec-4fa8-aeab-e4fee7b5bbba",
   "metadata": {},
   "source": [
    "Some of the popular languages that Data Scientists use are:\n",
    "1. Python\n",
    "2. R\n",
    "3. Skala"
   ]
  },
  {
   "cell_type": "markdown",
   "id": "ab062627-0114-4efa-a094-e125fb71f6c0",
   "metadata": {},
   "source": [
    "Some of the commonly used libraries used by Data Scientists include:"
   ]
  },
  {
   "cell_type": "markdown",
   "id": "293ee940-6dcc-45d9-ba68-99f7224c4291",
   "metadata": {},
   "source": [
    "1. Pandas\n",
    "2. matplotlib\n",
    "3. tensorflow"
   ]
  },
  {
   "cell_type": "markdown",
   "id": "596a9111-cef1-4879-aaa3-c2ef9385e9a2",
   "metadata": {},
   "source": [
    "| Data Science Tools |\n",
    "|--------------------|\n",
    "| Python             |\n",
    "| R                  |\n",
    "| Jupyter Notebooks  |\n"
   ]
  },
  {
   "cell_type": "markdown",
   "id": "03742798-b06c-473f-abe9-c96569f633a4",
   "metadata": {},
   "source": [
    "### Below are a few examples of evaluating arithmetic expressions in Python.\r\n"
   ]
  },
  {
   "cell_type": "code",
   "execution_count": 3,
   "id": "f503b755-caea-44f1-a2e6-3507448ba54a",
   "metadata": {},
   "outputs": [
    {
     "data": {
      "text/plain": [
       "17"
      ]
     },
     "execution_count": 3,
     "metadata": {},
     "output_type": "execute_result"
    }
   ],
   "source": [
    "# This a simple arithmetic expression to mutiply then add integers\n",
    "(3*4)+5"
   ]
  },
  {
   "cell_type": "code",
   "execution_count": 4,
   "id": "ebf43a55-7ad8-4962-a766-5d329b974d97",
   "metadata": {},
   "outputs": [
    {
     "data": {
      "text/plain": [
       "3.3333333333333335"
      ]
     },
     "execution_count": 4,
     "metadata": {},
     "output_type": "execute_result"
    }
   ],
   "source": [
    "# This will convert 200 minutes to hours by diving by 60\n",
    "minutes = 200\n",
    "hours = minutes / 60\n",
    "hours"
   ]
  },
  {
   "cell_type": "markdown",
   "id": "ee24d451-9ef0-46b3-bb5f-2acaf2512866",
   "metadata": {},
   "source": [
    "## Author: Rafael Souza"
   ]
  }
 ],
 "metadata": {
  "kernelspec": {
   "display_name": "Python 3 (ipykernel)",
   "language": "python",
   "name": "python3"
  },
  "language_info": {
   "codemirror_mode": {
    "name": "ipython",
    "version": 3
   },
   "file_extension": ".py",
   "mimetype": "text/x-python",
   "name": "python",
   "nbconvert_exporter": "python",
   "pygments_lexer": "ipython3",
   "version": "3.11.9"
  }
 },
 "nbformat": 4,
 "nbformat_minor": 5
}
